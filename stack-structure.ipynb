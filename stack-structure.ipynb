{
  "nbformat": 4,
  "nbformat_minor": 0,
  "metadata": {
    "colab": {
      "provenance": [],
      "toc_visible": true,
      "authorship_tag": "ABX9TyOmaUqnKQtn4XxgO2GrW3If",
      "include_colab_link": true
    },
    "kernelspec": {
      "name": "python3",
      "display_name": "Python 3"
    },
    "language_info": {
      "name": "python"
    }
  },
  "cells": [
    {
      "cell_type": "markdown",
      "metadata": {
        "id": "view-in-github",
        "colab_type": "text"
      },
      "source": [
        "<a href=\"https://colab.research.google.com/github/pessoa736/data-struture/blob/master/stack-structure.ipynb\" target=\"_parent\"><img src=\"https://colab.research.google.com/assets/colab-badge.svg\" alt=\"Open In Colab\"/></a>"
      ]
    },
    {
      "cell_type": "code",
      "source": [
        "# Atividade 1 -- questões de lista encadeadas"
      ],
      "metadata": {
        "id": "ayouZXvKFe-L"
      },
      "execution_count": null,
      "outputs": []
    },
    {
      "cell_type": "code",
      "source": [
        "# questão 1\n",
        "\n",
        "'''\n",
        "\n",
        "Pilha de Pratos na Pia:\n",
        "cada prato sujo vai sendo colocado sobre o anterior. Na hora de lavar, voce so consegue\n",
        "pegar o de cima.\n",
        "\n",
        "'''\n",
        "\n",
        "\n",
        "pilha_de_pratos_sujos = []\n",
        "\n",
        "def add_prato(prato):\n",
        "    print(f'\\nAdicionando {prato} na pilha')\n",
        "    pilha_de_pratos_sujos.append(prato)\n",
        "\n",
        "def lavar_prato():\n",
        "      utimo_item = pilha_de_pratos_sujos[-1]\n",
        "      print(f'\\nLavando {utimo_item}')\n",
        "      prato_sujo = pilha_de_pratos_sujos.pop()\n",
        "\n",
        "\n",
        "# -----------------------------------------------------------------------\n",
        "# test/demostração do script\n",
        "\n",
        "add_prato('prato1')\n",
        "add_prato('prato2')\n",
        "add_prato('prato3')\n",
        "add_prato('prato4')\n",
        "add_prato('prato5')\n",
        "\n",
        "lavar_prato()\n",
        "lavar_prato()\n",
        "lavar_prato()\n",
        "lavar_prato()\n",
        "lavar_prato()\n"
      ],
      "metadata": {
        "id": "UyW2Y2R8GHYJ"
      },
      "execution_count": null,
      "outputs": []
    },
    {
      "cell_type": "code",
      "source": [
        "# questão 2\n",
        "\n",
        "\"\"\"\n",
        "Voltar nas Páginas de um Navegador:\n",
        "cada pa gina acessada e empilhada. Ao clicar \"voltar\", voce retorna a anterior.\n",
        "\"\"\""
      ],
      "metadata": {
        "id": "l1CgLz7JIJ9y"
      },
      "execution_count": null,
      "outputs": []
    }
  ]
}