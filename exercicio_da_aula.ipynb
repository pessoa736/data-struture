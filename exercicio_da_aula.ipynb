{
  "nbformat": 4,
  "nbformat_minor": 0,
  "metadata": {
    "colab": {
      "provenance": [],
      "authorship_tag": "ABX9TyN/eJFK1aT7mNkg7rFaM7Zp",
      "include_colab_link": true
    },
    "kernelspec": {
      "name": "python3",
      "display_name": "Python 3"
    },
    "language_info": {
      "name": "python"
    }
  },
  "cells": [
    {
      "cell_type": "markdown",
      "metadata": {
        "id": "view-in-github",
        "colab_type": "text"
      },
      "source": [
        "<a href=\"https://colab.research.google.com/github/pessoa736/data-struture/blob/master/exercicio_da_aula.ipynb\" target=\"_parent\"><img src=\"https://colab.research.google.com/assets/colab-badge.svg\" alt=\"Open In Colab\"/></a>"
      ]
    },
    {
      "cell_type": "code",
      "source": [
        "# script util para mim codar\n",
        "\n",
        "tab_num = 0\n",
        "tabs = '\\t'*tab_num\n",
        "\n",
        "def mover_tab(t):\n",
        "  global tabs\n",
        "  global tab_num\n",
        "  tab_num += t\n",
        "  tabs = '\\t'*tab_num\n",
        "\n",
        "\n",
        "\n",
        "class programaLoop:\n",
        "  def __init__(self, F):\n",
        "    self.isRun = True\n",
        "    F(self)\n",
        "\n",
        "  def loop(self, funcao):\n",
        "    while self.isRun:\n",
        "      funcao(self)\n",
        "\n",
        "  def stop(self):\n",
        "    self.isRun = False\n",
        ""
      ],
      "metadata": {
        "id": "LUcrBk8NizYq"
      },
      "execution_count": 47,
      "outputs": []
    },
    {
      "cell_type": "code",
      "execution_count": 57,
      "metadata": {
        "colab": {
          "base_uri": "https://localhost:8080/",
          "height": 110
        },
        "id": "lwz4TH2DV4Oz",
        "outputId": "aca4653b-e814-412d-a5be-559915722796"
      },
      "outputs": [
        {
          "output_type": "error",
          "ename": "SyntaxError",
          "evalue": "expected ':' (<ipython-input-57-31fee9a0a5a5>, line 45)",
          "traceback": [
            "\u001b[0;36m  File \u001b[0;32m\"<ipython-input-57-31fee9a0a5a5>\"\u001b[0;36m, line \u001b[0;32m45\u001b[0m\n\u001b[0;31m    def remove_no()\u001b[0m\n\u001b[0m                   ^\u001b[0m\n\u001b[0;31mSyntaxError\u001b[0m\u001b[0;31m:\u001b[0m expected ':'\n"
          ]
        }
      ],
      "source": [
        "from _typeshed import Self\n",
        "# as classes que fiz para pegar em cada questão\n",
        "\n",
        "class No:\n",
        "  def __init__(self, id, dado):\n",
        "    self.id = id\n",
        "    self.dado = dado\n",
        "    self.proximo = None\n",
        "\n",
        "  def __str__(self):\n",
        "    global tabs\n",
        "\n",
        "    mover_tab(1)\n",
        "    result = f'[{self.id}] = [\\n '\n",
        "\n",
        "    mover_tab(1)\n",
        "    result += f'{tabs}dado: \"{self.dado}\", \\n{tabs}proximo: {self.proximo}\\n'\n",
        "    mover_tab(-1)\n",
        "\n",
        "    result += f'{tabs}]'\n",
        "\n",
        "    mover_tab(-1)\n",
        "\n",
        "    return result\n",
        "\n",
        "  def troca_pelo_proximo(self, lista):\n",
        "    self.dado = self.proximo.dado\n",
        "    self.proximo = self.proximo.proximo\n",
        "\n",
        "\n",
        "class lista_em_cadeia:\n",
        "  def __init__(self):\n",
        "    self.lista = []\n",
        "    self.primeiro = None\n",
        "    self.ultimo = None\n",
        "\n",
        "  def add_no(self, dados):\n",
        "    tamanho = len(self.lista)\n",
        "\n",
        "    no  = No(tamanho, dados)\n",
        "\n",
        "    if tamanho > 0:\n",
        "      self.lista[tamanho-1].proximo = no\n",
        "    else:\n",
        "      self.primeiro = no\n",
        "\n",
        "    self.ultimo = no\n",
        "    self.lista.append(no)\n",
        "\n",
        "  def remove_no_do_inicio(self)\n",
        "    if len(self.lista) > 0:\n",
        "      for No in self.lista:\n",
        "        No = No.troca_pelo_proximo()\n",
        "\n",
        "\n",
        "  def __str__(self):\n",
        "    global tabs\n",
        "    str = \"{\"\n",
        "\n",
        "    for no in self.lista:\n",
        "      mover_tab(1)\n",
        "      str += f'\\n{tabs}{no},'\n",
        "      mover_tab(-1)\n",
        "\n",
        "    str += \"\\n}\"\n",
        "\n",
        "    return str\n",
        "\n"
      ]
    },
    {
      "cell_type": "code",
      "source": [
        "## test\n",
        "\n",
        "lista = lista_em_cadeia()\n",
        "\n",
        "lista.add_no(1)\n",
        "lista.add_no(\"test2\")\n",
        "lista.add_no(True)\n",
        "lista.add_no(3.14)\n",
        "lista.add_no(\"pão de bataaata\")\n",
        "\n",
        "print(lista)"
      ],
      "metadata": {
        "colab": {
          "base_uri": "https://localhost:8080/"
        },
        "id": "5Zo0ojuxj9bS",
        "outputId": "a463a4aa-6450-4be8-8f0c-f1d6d67d1904"
      },
      "execution_count": 58,
      "outputs": [
        {
          "output_type": "stream",
          "name": "stdout",
          "text": [
            "{\n",
            "\t[0] = [\n",
            " \t\t\tdado: 1, \n",
            "\t\t\tID-do-proximo: 1\n",
            "\t\t],\n",
            "\t[1] = [\n",
            " \t\t\tdado: test2, \n",
            "\t\t\tID-do-proximo: 2\n",
            "\t\t],\n",
            "\t[2] = [\n",
            " \t\t\tdado: True, \n",
            "\t\t\tID-do-proximo: 3\n",
            "\t\t],\n",
            "\t[3] = [\n",
            " \t\t\tdado: 3.14, \n",
            "\t\t\tID-do-proximo: 4\n",
            "\t\t],\n",
            "\t[4] = [\n",
            " \t\t\tdado: pão de bataaata, \n",
            "\t\t\tID-do-proximo: None\n",
            "\t\t],\n",
            "}\n"
          ]
        }
      ]
    },
    {
      "cell_type": "code",
      "source": [
        "import os\n",
        "\n",
        "lista_de_tarefas = lista_em_cadeia()\n",
        "\n",
        "def add_tarefa(tarefa):\n",
        "  lista_de_tarefas.add_no(tarefa)\n",
        "\n",
        "\n",
        "#---------------------------------------------------------------------------\n",
        "# Test\n",
        "\n",
        "\n",
        "def init(self):\n",
        "  global tabs\n",
        "  global mover_tab\n",
        "\n",
        "  self.input = \"\"\n",
        "  def show():\n",
        "    str_ = \"\\n\"\n",
        "    mover_tab(4)\n",
        "    str_ += f\"{tabs}Opções da lista de tarefas\\n\"\n",
        "    mover_tab(-4)\n",
        "    str_ += f\" 1 - Adicionar tarefa\\n\"\n",
        "    str_ += f\" 2 - Remover tarefa\\n\"\n",
        "    str_ += f\" 3 - Mostrar tarefas\\n\"\n",
        "    str_ += f\" 4 - Sair\\n\"\n",
        "\n",
        "    print(str_)\n",
        "\n",
        "  show()\n",
        "  self.showmenu = show\n",
        "\n",
        "\n",
        "def update(self):\n",
        "  self.input = input(\"\\nDigite uma opção: \")\n",
        "\n",
        "  if self.input == \"1\":\n",
        "    self.input = input(\"Digite a tarefa: \")\n",
        "    add_tarefa(self.input)\n",
        "\n",
        "  elif self.input == \"2\":\n",
        "    self.remove_tarefa()\n",
        "\n",
        "  elif self.input == \"3\":\n",
        "    print(lista_de_tarefas)\n",
        "\n",
        "  elif self.input == \"4\":\n",
        "    self.stop()\n",
        "  else:\n",
        "    print(\"Opção inválida\")\n",
        "\n",
        "  self.showmenu()\n",
        "\n",
        "\n",
        "prog = programaLoop(init)\n",
        "prog.loop(update)\n",
        "\n",
        "print(\"\\nlista:\\n\"+str(lista_de_tarefas))\n"
      ],
      "metadata": {
        "colab": {
          "base_uri": "https://localhost:8080/"
        },
        "id": "PYfdxcJXkkVC",
        "outputId": "5d4f29e5-8323-4678-fc2d-b1e939a24423"
      },
      "execution_count": 59,
      "outputs": [
        {
          "output_type": "stream",
          "name": "stdout",
          "text": [
            "\n",
            "\t\t\t\tOpções da lista de tarefas\n",
            " 1 - Adicionar tarefa\n",
            " 2 - Remover tarefa\n",
            " 3 - Mostrar tarefas\n",
            " 4 - Sair\n",
            "\n",
            "\n",
            "Digite uma opção: 1\n",
            "Digite a tarefa: aaaaaaaaaa\n",
            "\n",
            "\t\t\t\tOpções da lista de tarefas\n",
            " 1 - Adicionar tarefa\n",
            " 2 - Remover tarefa\n",
            " 3 - Mostrar tarefas\n",
            " 4 - Sair\n",
            "\n",
            "\n",
            "Digite uma opção: 3\n",
            "{\n",
            "\t[0] = [\n",
            " \t\t\tdado: aaaaaaaaaa, \n",
            "\t\t\tID-do-proximo: None\n",
            "\t\t],\n",
            "}\n",
            "\n",
            "\t\t\t\tOpções da lista de tarefas\n",
            " 1 - Adicionar tarefa\n",
            " 2 - Remover tarefa\n",
            " 3 - Mostrar tarefas\n",
            " 4 - Sair\n",
            "\n",
            "\n",
            "Digite uma opção: 4\n",
            "\n",
            "\t\t\t\tOpções da lista de tarefas\n",
            " 1 - Adicionar tarefa\n",
            " 2 - Remover tarefa\n",
            " 3 - Mostrar tarefas\n",
            " 4 - Sair\n",
            "\n",
            "\n",
            "lista:\n",
            "{\n",
            "\t[0] = [\n",
            " \t\t\tdado: aaaaaaaaaa, \n",
            "\t\t\tID-do-proximo: None\n",
            "\t\t],\n",
            "}\n"
          ]
        }
      ]
    }
  ]
}