{
 "cells": [
  {
   "cell_type": "markdown",
   "metadata": {},
   "source": [
    "# questões de listas encadeadas \n",
    "elas estão depois da definições de classes\n",
    "\n",
    "obs: caso esteja dando erro na execução rode os 2 primeiros scripts desse aquivo"
   ]
  },
  {
   "cell_type": "code",
   "execution_count": 2,
   "metadata": {
    "colab": {
     "base_uri": "https://localhost:8080/",
     "height": 110
    },
    "id": "lwz4TH2DV4Oz",
    "outputId": "aca4653b-e814-412d-a5be-559915722796"
   },
   "outputs": [],
   "source": [
    "# estrutura da lista\n",
    "\n",
    "debug = False\n",
    "\n",
    "class No:\n",
    "    def __init__(self, dado): # functio\n",
    "        self.dado = dado\n",
    "        self.proximo = None\n",
    "        self.anterior = None\n",
    "\n",
    "    def __str__(self):\n",
    "        if debug:\n",
    "          return \"ante: \" + str(self.anterior) + \" dado: \" + str(self.dado) + \" prox: \"+ str(self.proximo)\n",
    "        else:\n",
    "          return str(self.dado)\n",
    "\n",
    "    def troca_pelo_proximo(self):\n",
    "        self.proximo = self.proximo.proximo\n",
    "        self.dado = self.proximo.dado\n",
    "  \n",
    "    def trocar_pelo_anterior(self):\n",
    "        self.anterior = self.anterior.anterior\n",
    "        self.dado = self.anterior.dado\n",
    "\n",
    "\n",
    "\n",
    "class listaDupla:\n",
    "    def __init__(self):\n",
    "        self.inicio = None\n",
    "        self.ultimo = None\n",
    "\n",
    "    def add_No_no_inicio(self, no):\n",
    "        if self.inicio is None:\n",
    "          self.inicio = no\n",
    "          self.ultimo = no\n",
    "        else:\n",
    "          no.proximo = self.inicio\n",
    "          self.inicio.anterior = no\n",
    "          self.inicio = no\n",
    "\n",
    "    def add_No_no_final(self, no):\n",
    "        if self.ultimo is None:\n",
    "          self.inicio = no\n",
    "          self.ultimo = no\n",
    "        else:\n",
    "          self.anterior = self.ultimo\n",
    "          self.ultimo.proximo = no\n",
    "          self.ultimo = no\n",
    "\n",
    "    def counter(self):\n",
    "        atual = self.inicio\n",
    "        c = 0\n",
    "        while atual:\n",
    "            c += 1\n",
    "            atual = atual.proximo\n",
    "\n",
    "        return c\n",
    "\n",
    "\n",
    "    def __str__(self):\n",
    "        atual = self.inicio\n",
    "        str_ = \"\"\n",
    "        while atual:\n",
    "            str_ += str(atual)\n",
    "            atual = atual.proximo\n",
    "            \n",
    "            if atual:\n",
    "                str_ += \" ->\"\n",
    "        return str_\n",
    "\n"
   ]
  },
  {
   "cell_type": "code",
   "execution_count": 7,
   "metadata": {
    "id": "LUcrBk8NizYq"
   },
   "outputs": [],
   "source": [
    "# script util para mim codar\n",
    "\n",
    "tab_num = 0\n",
    "tabs = '\\t'*tab_num\n",
    "\n",
    "def mover_tab(t):\n",
    "  global tabs\n",
    "  global tab_num\n",
    "  tab_num += t\n",
    "  tabs = '\\t'*tab_num\n",
    "\n",
    "def input_on_vscode(text):\n",
    "  in_ = input()\n",
    "  print(str(text) + str(in_))\n",
    "  return in_\n",
    "\n",
    "class programaLoop:\n",
    "  def __init__(self, F):\n",
    "    self.isRun = True\n",
    "    F(self)\n",
    "\n",
    "  def loop(self, funcao):\n",
    "    while self.isRun:\n",
    "      funcao(self)\n",
    "\n",
    "  def stop(self):\n",
    "    self.isRun = False\n"
   ]
  },
  {
   "cell_type": "code",
   "execution_count": 6,
   "metadata": {},
   "outputs": [
    {
     "name": "stdout",
     "output_type": "stream",
     "text": [
      "joão ->maria ->pedro\n"
     ]
    }
   ],
   "source": [
    "\"\"\" \n",
    "Questao 1 - Lista de Nomes (manual)\n",
    "\n",
    "Crie tres nos que armazenem os nomes 'Joao', 'Maria' e 'Pedro'.\n",
    "\n",
    "Depois, ligue esses nos manualmente usando o atributo 'proximo', de forma que fiquem\n",
    "encadeados na ordem correta.\n",
    "\n",
    "Por fim, percorra a lista e exiba todos os nomes na tela.\n",
    "\n",
    "\"\"\"\n",
    "\n",
    "lista_de_nomes = listaDupla()\n",
    "\n",
    "j = No(\"joão\")\n",
    "m = No(\"maria\")\n",
    "p = No(\"pedro\")\n",
    "\n",
    "lista_de_nomes.add_No_no_inicio(p)\n",
    "lista_de_nomes.add_No_no_inicio(m)\n",
    "lista_de_nomes.add_No_no_inicio(j)\n",
    "print(lista_de_nomes)"
   ]
  },
  {
   "cell_type": "code",
   "execution_count": null,
   "metadata": {},
   "outputs": [
    {
     "name": "stdout",
     "output_type": "stream",
     "text": [
      "\n",
      " escreva: \n",
      "1 - para adicionar tarefa\n",
      "2 - para mostrar as tarefas\n",
      "3 - para sair \n"
     ]
    },
    {
     "name": "stdin",
     "output_type": "stream",
     "text": [
      " 1\n"
     ]
    },
    {
     "name": "stdout",
     "output_type": "stream",
     "text": [
      "o que desja fazer: 1\n"
     ]
    }
   ],
   "source": [
    "\"\"\" \n",
    "\n",
    "Questao 2 - Lista de Tarefas (classe + metodo)\n",
    "Crie uma classe chamada 'ListaDeTarefas', com os metodos:\n",
    "- adicionar_tarefa(tarefa): adiciona uma tarefa no inicio da lista;\n",
    "- mostrar_tarefas(): percorre a lista e mostra as tarefas na tela.\n",
    "\n",
    "Depois, crie uma lista e adicione as tarefas:\n",
    "1. acordar\n",
    "2. tomar cafe\n",
    "3. estudar\n",
    "\n",
    "\"\"\"\n",
    "import time\n",
    "\n",
    "\n",
    "class ListaDeTarefas:\n",
    "    def __init__(self):\n",
    "        self.lista = listaDupla()\n",
    "    \n",
    "    def adicionar_tarefa(self, tarefa):\n",
    "        self.lista.add_No_no_inicio(No(tarefa))\n",
    "    \n",
    "    def mostrar_tarefas(self):\n",
    "        print(self.lista)\n",
    "\n",
    "def init(self):\n",
    "    self.input = \"\"\n",
    "    self.tarefas = ListaDeTarefas()\n",
    "\n",
    "def update(self):\n",
    "    \n",
    "    print(\"\\n escreva: \\n1 - para adicionar tarefa\\n2 - para mostrar as tarefas\\n3 - para sair \")\n",
    "    time.sleep(1)\n",
    "    self.input = input_on_vscode(\"o que desja fazer: \")\n",
    "    \n",
    "    if self.input == \"1\":\n",
    "        time.sleep(1)\n",
    "        tarefa = input_on_vscode(\"diga o nome da tarefa: \")\n",
    "        time.sleep(1)\n",
    "        self.tarefas.adicionar_tarefa(tarefa)\n",
    "    \n",
    "    elif self.input == \"2\":\n",
    "        self.tarefas.mostrar_tarefas()\n",
    "    \n",
    "    elif self.input == \"3\":\n",
    "        self.isRun = False    \n",
    "\n",
    "pl = programaLoop(init)\n",
    "pl.loop(update)"
   ]
  },
  {
   "cell_type": "code",
   "execution_count": 61,
   "metadata": {},
   "outputs": [
    {
     "name": "stdout",
     "output_type": "stream",
     "text": [
      "Arroz ->Feijao ->Macarrao\n"
     ]
    }
   ],
   "source": [
    "\"\"\"\n",
    "Questao 3 - Lista de Compras Encadeada\n",
    "Voce esta criando um sistema simples de lista de compras com encadeamento.\n",
    "Crie uma classe 'Produto' que representa um no da lista, contendo o nome do produto.\n",
    "Depois, encadeie os produtos 'Arroz', 'Feijao' e 'Macarrao' e mostre a lista com a saida no formato:\n",
    "\n",
    "Produto: Arroz\n",
    "Produto: Feijao\n",
    "\n",
    "Produto: Macarrao\n",
    "\"\"\"\n",
    "\n",
    "# cansei, vou fazer sem loop.\n",
    "\n",
    "lista_de_compras = listaDupla()\n",
    "\n",
    "lista_de_compras.add_No_no_final(No(\"Arroz\"))\n",
    "lista_de_compras.add_No_no_final(No(\"Feijao\"))\n",
    "lista_de_compras.add_No_no_final(No(\"Macarrao\"))\n",
    "\n",
    "print(lista_de_compras)"
   ]
  },
  {
   "cell_type": "code",
   "execution_count": 3,
   "metadata": {},
   "outputs": [
    {
     "name": "stdout",
     "output_type": "stream",
     "text": [
      "A ->B ->C\n",
      "numero de itens na lista: 3\n"
     ]
    }
   ],
   "source": [
    "\"\"\"\n",
    "\n",
    "Questao 4 - Percorrendo a lista com contador\n",
    "Crie uma lista encadeada com os valores 'A', 'B' e 'C' (nessa ordem), usando nos manuais.\n",
    "Percorra a lista e conte quantos nos ela possui.\n",
    "Ao final, mostre a quantidade total de elementos.\n",
    "\n",
    "\"\"\"\n",
    "\n",
    "lista = listaDupla()\n",
    "\n",
    "a = No('A')\n",
    "b = No('B')\n",
    "c = No('C')\n",
    "\n",
    "lista.add_No_no_final(a)\n",
    "lista.add_No_no_final(b)\n",
    "lista.add_No_no_final(c)\n",
    "print(lista)\n",
    "print(\"numero de itens na lista: \" + str(lista.counter()))\n"
   ]
  },
  {
   "cell_type": "code",
   "execution_count": 4,
   "metadata": {
    "colab": {
     "base_uri": "https://localhost:8080/"
    },
    "id": "5Zo0ojuxj9bS",
    "outputId": "a463a4aa-6450-4be8-8f0c-f1d6d67d1904"
   },
   "outputs": [
    {
     "name": "stdout",
     "output_type": "stream",
     "text": [
      "abacaxi ->abacaxi ->abacaxi2\n"
     ]
    }
   ],
   "source": [
    "## test\n",
    "\n",
    "lista_de_compras = listaDupla()\n",
    "\n",
    "lista_de_compras.add_No_no_inicio(No(\"abacaxi\"))\n",
    "lista_de_compras.add_No_no_final(No(\"abacaxi2\"))\n",
    "lista_de_compras.add_No_no_inicio(No(\"abacaxi\"))\n",
    "print(lista_de_compras)\n"
   ]
  },
  {
   "cell_type": "code",
   "execution_count": null,
   "metadata": {},
   "outputs": [],
   "source": []
  }
 ],
 "metadata": {
  "colab": {
   "authorship_tag": "ABX9TyN/eJFK1aT7mNkg7rFaM7Zp",
   "include_colab_link": true,
   "provenance": []
  },
  "kernelspec": {
   "display_name": "Python 3 (ipykernel)",
   "language": "python",
   "name": "python3"
  },
  "language_info": {
   "codemirror_mode": {
    "name": "ipython",
    "version": 3
   },
   "file_extension": ".py",
   "mimetype": "text/x-python",
   "name": "python",
   "nbconvert_exporter": "python",
   "pygments_lexer": "ipython3",
   "version": "3.12.1"
  }
 },
 "nbformat": 4,
 "nbformat_minor": 4
}
